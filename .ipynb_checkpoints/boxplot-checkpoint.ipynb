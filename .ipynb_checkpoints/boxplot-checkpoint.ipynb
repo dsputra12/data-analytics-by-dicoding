{
 "cells": [
  {
   "cell_type": "code",
   "execution_count": 5,
   "id": "6232535d-9efb-4e4d-8932-9143ab86c24e",
   "metadata": {},
   "outputs": [
    {
     "data": {
      "image/png": "[encoded data removed]",
      "text/plain": [
       "<Figure size 640x480 with 1 Axes>"
      ]
     },
     "metadata": {},
     "output_type": "display_data"
    }
   ],
   "source": [
    "import matplotlib.pyplot as plt\n",
    "import numpy as np\n",
    "import seaborn as sns\n",
    " \n",
    "x = np.random.normal(15, 5, 250) #np.random.normal(mean, stdev, banyak data)\n",
    " \n",
    "# plt.hist(x=x, bins=15)\n",
    "# plt.show()\n",
    "\n",
    "# #Menggunakan library sns\n",
    "# sns.histplot(x = x, bins = 15) #bins = banyaknya bar\n",
    "# plt.show()\n",
    "\n",
    "# #Menambahkan elemen hiasan KDE, semacam identifikasi distribusi data\n",
    "# sns.histplot(x = x, bins = 15, kde = True) #bins = banyaknya bar\n",
    "# plt.show()\n",
    "\n",
    "#Boxplot\n",
    "x = np.random.normal(15, 5, 250)\n",
    "sns.boxplot(x)\n",
    "plt.show()"
   ]
  },
  {
   "cell_type": "code",
   "execution_count": null,
   "id": "a1f5e0af-8241-43f6-9f9a-114ddd0df37b",
   "metadata": {},
   "outputs": [],
   "source": []
  }
 ],
 "metadata": {
  "kernelspec": {
   "display_name": "Python 3 (ipykernel)",
   "language": "python",
   "name": "python3"
  },
  "language_info": {
   "codemirror_mode": {
    "name": "ipython",
    "version": 3
   },
   "file_extension": ".py",
   "mimetype": "text/x-python",
   "name": "python",
   "nbconvert_exporter": "python",
   "pygments_lexer": "ipython3",
   "version": "3.11.9"
  }
 },
 "nbformat": 4,
 "nbformat_minor": 5
}
