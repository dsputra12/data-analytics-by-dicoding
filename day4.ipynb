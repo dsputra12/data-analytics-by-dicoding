{
 "cells": [
  {
   "cell_type": "code",
   "execution_count": 12,
   "id": "41b1fd6b-bc8a-4c19-9b87-2746484677e6",
   "metadata": {},
   "outputs": [
    {
     "data": {
      "text/plain": [
       "state\n",
       "South Australia                 139\n",
       "Queensland                      134\n",
       "New South Wales                 132\n",
       "Northern Territory              125\n",
       "Western Australia               124\n",
       "Australian Capital Territory    121\n",
       "Victoria                        121\n",
       "Tasmania                        104\n",
       "Name: customer_id, dtype: int64"
      ]
     },
     "execution_count": 12,
     "metadata": {},
     "output_type": "execute_result"
    }
   ],
   "source": [
    "import numpy as np\n",
    "import pandas as pd\n",
    "import matplotlib.pyplot as plt\n",
    "\n",
    "#Baca data Customers\n",
    "df = pd.read_csv('customers.csv')\n",
    "df.describe(include=\"all\")\n",
    "\n",
    "# #Melihat demograsi pelanggan berdasarkan gender\n",
    "# df.groupby(by=\"gender\").agg(\n",
    "#     {\n",
    "#         'customer_id' : 'nunique',  #filter customer_id yang unique\n",
    "#         'age': ['max', 'min', 'mean', 'std']\n",
    "#     }\n",
    "# )\n",
    "\n",
    "#Melihat demografi berdasarkan kota\n",
    "df.groupby(by=\"city\").customer_id.nunique().sort_values(ascending =False)\n",
    "df.groupby(by=\"state\").customer_id.nunique().sort_values(ascending =False)\n"
   ]
  },
  {
   "cell_type": "code",
   "execution_count": null,
   "id": "3633e117-d9e8-4176-b95b-52136d121aff",
   "metadata": {},
   "outputs": [],
   "source": []
  }
 ],
 "metadata": {
  "kernelspec": {
   "display_name": "Python 3 (ipykernel)",
   "language": "python",
   "name": "python3"
  },
  "language_info": {
   "codemirror_mode": {
    "name": "ipython",
    "version": 3
   },
   "file_extension": ".py",
   "mimetype": "text/x-python",
   "name": "python",
   "nbconvert_exporter": "python",
   "pygments_lexer": "ipython3",
   "version": "3.11.9"
  }
 },
 "nbformat": 4,
 "nbformat_minor": 5
}
