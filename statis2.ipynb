{
 "cells": [
  {
   "cell_type": "code",
   "execution_count": 1,
   "id": "54ce3808-30fe-4059-a60a-710e726571ed",
   "metadata": {
    "scrolled": true
   },
   "outputs": [
    {
     "name": "stdout",
     "output_type": "stream",
     "text": [
      "                                age  communication_skill_score  \\\n",
      "age                        1.000000                   0.848855   \n",
      "communication_skill_score  0.848855                   1.000000   \n",
      "quantitative_skill_score  -0.922489                  -0.890724   \n",
      "\n",
      "                           quantitative_skill_score  \n",
      "age                                       -0.922489  \n",
      "communication_skill_score                 -0.890724  \n",
      "quantitative_skill_score                   1.000000  \n",
      "                             age  communication_skill_score  \\\n",
      "age                         5.30                      17.75   \n",
      "communication_skill_score  17.75                      82.50   \n",
      "quantitative_skill_score  -15.75                     -60.00   \n",
      "\n",
      "                           quantitative_skill_score  \n",
      "age                                          -15.75  \n",
      "communication_skill_score                    -60.00  \n",
      "quantitative_skill_score                      55.00  \n"
     ]
    }
   ],
   "source": [
    "import numpy as np\n",
    "import pandas as pd\n",
    "import matplotlib.pyplot as plt\n",
    "from scipy import stats\n",
    "\n",
    "nilai_ujian = np.array([5, 1, 3, 4, 2, 2, 2])\n",
    "\n",
    "# Calculate the mean\n",
    "rataan = nilai_ujian.mean()\n",
    "\n",
    "# Calculate the median\n",
    "median = np.median(nilai_ujian)\n",
    "\n",
    "# Calculate the mode (returns an array, hence [0] to get the value)\n",
    "modus = stats.mode(nilai_ujian)[0]\n",
    "\n",
    "# Calculate the range (max - min)\n",
    "range = nilai_ujian.max() - nilai_ujian.min()\n",
    "\n",
    "# Calculate the IQR\n",
    "iqr = np.percentile(nilai_ujian, 75) - np.percentile(nilai_ujian, 25)\n",
    "\n",
    "# Sort the array\n",
    "sorted = np.sort(nilai_ujian)\n",
    "\n",
    "#Variance using Pandas\n",
    "nilai_ujian_series = pd.Series(nilai_ujian)\n",
    "variance = nilai_ujian_series.var()\n",
    "\n",
    "#Stdev\n",
    "stdev = nilai_ujian_series.std()\n",
    "\n",
    "# # Print the results\n",
    "# print(sorted)\n",
    "# print(rataan)\n",
    "# print(median)\n",
    "# print(modus)\n",
    "# print(range)\n",
    "# print(iqr)\n",
    "# print(nilai_ujian_series)\n",
    "# print(variance)\n",
    "# print(stdev)\n",
    "\n",
    "# #Histogram\n",
    "# plt.hist(nilai_ujian, bins = 5)\n",
    "# plt.show()\n",
    "\n",
    "# #Skewedness\n",
    "# skewedness = nilai_ujian_series.skew()\n",
    "# print(skewedness)\n",
    "\n",
    "sample_data = {\n",
    "    'name': ['John', 'Alia', 'Ananya', 'Steve', 'Ben'],\n",
    "    'age': [24, 22, 23, 25, 28],  \n",
    "    'communication_skill_score': [85, 70, 75, 90, 90],\n",
    "    'quantitative_skill_score': [80, 90, 80, 75, 70]\n",
    "}\n",
    " \n",
    "df = pd.DataFrame(sample_data)\n",
    " \n",
    "korelasi = df.corr(numeric_only=True)\n",
    "kovarian = df.cov(numeric_only=True)\n",
    "print(korelasi)\n",
    "print(kovarian)\n",
    "\n",
    "#Ini pesan"
   ]
  },
  {
   "cell_type": "code",
   "execution_count": null,
   "id": "a902885d-2ac8-4abf-91f7-89c22a099e7b",
   "metadata": {},
   "outputs": [],
   "source": []
  }
 ],
 "metadata": {
  "kernelspec": {
   "display_name": "Python 3 (ipykernel)",
   "language": "python",
   "name": "python3"
  },
  "language_info": {
   "codemirror_mode": {
    "name": "ipython",
    "version": 3
   },
   "file_extension": ".py",
   "mimetype": "text/x-python",
   "name": "python",
   "nbconvert_exporter": "python",
   "pygments_lexer": "ipython3",
   "version": "3.11.9"
  }
 },
 "nbformat": 4,
 "nbformat_minor": 5
}
